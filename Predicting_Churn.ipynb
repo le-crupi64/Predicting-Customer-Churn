{
 "cells": [
  {
   "cell_type": "markdown",
   "metadata": {},
   "source": [
    "# Predicting Customer Churn\n",
    "--- \n",
    "\n",
    "The project aims to build a predictive model for Beta Bank to anticipate customer churn. By analyzing past behavior and contract terminations, the goal is to predict whether a customer is likely to leave the bank. The dataset includes features like credit score, geography, age, and balance.\n",
    "\n",
    "Key steps:\n",
    "\n",
    "1. Data Preparation: Download and prepare the dataset by handling missing values and encoding categorical variables.\n",
    "\n",
    "2. Class Imbalance Examination: Assess the balance of classes to understand the distribution of the target variable ('Exited').\n",
    "\n",
    "3. Initial Model Training: Train a baseline model without considering class imbalance to establish a performance baseline.\n",
    "\n",
    "4. Improving Model Quality: Implement strategies to address class imbalance, such as oversampling or undersampling, and train different models to find the best performer.\n",
    "\n",
    "5. Final Testing: Evaluate the model's performance using the test set, focusing on metrics like F1 score and AUC-ROC to assess predictive accuracy.\n",
    "\n",
    "Through these steps, the project aims to develop a robust model that helps Beta Bank identify customers at risk of leaving, enabling proactive retention efforts."
   ]
  },
  {
   "cell_type": "code",
   "execution_count": 115,
   "metadata": {},
   "outputs": [],
   "source": [
    "# Install Necessary Packages \n",
    "\n",
    "# Data Prep Packages \n",
    "import pandas as pd \n",
    "import numpy as np\n",
    "from sklearn.model_selection import train_test_split\n",
    "from sklearn.preprocessing import StandardScaler\n",
    "from sklearn.utils import shuffle\n",
    "\n",
    "# Models \n",
    "from sklearn.tree import DecisionTreeClassifier\n",
    "from sklearn.ensemble import RandomForestClassifier\n",
    "from sklearn.linear_model import LogisticRegression\n",
    "\n",
    "# Model Assessment Package \n",
    "from sklearn.metrics import precision_score, recall_score, f1_score, roc_auc_score, accuracy_score\n",
    "\n",
    "# Visualization package \n",
    "import matplotlib.pyplot as plt"
   ]
  },
  {
   "cell_type": "markdown",
   "metadata": {},
   "source": [
    "### Data Preparation \n",
    "---"
   ]
  },
  {
   "cell_type": "code",
   "execution_count": 116,
   "metadata": {},
   "outputs": [
    {
     "name": "stdout",
     "output_type": "stream",
     "text": [
      "The data has been read in as data.\n"
     ]
    }
   ],
   "source": [
    "try:\n",
    "    # Attempt to read the data\n",
    "    data = pd.read_csv('datasets/Churn.csv')\n",
    "    # If successful, print Confirmation\n",
    "    print(\"The data has been read in as data.\")\n",
    "except Exception as e:\n",
    "    # If an error occurs, print an error message\n",
    "    print(\"Error reading data:\", e)"
   ]
  },
  {
   "cell_type": "code",
   "execution_count": 117,
   "metadata": {},
   "outputs": [
    {
     "name": "stdout",
     "output_type": "stream",
     "text": [
      "<class 'pandas.core.frame.DataFrame'>\n",
      "RangeIndex: 10000 entries, 0 to 9999\n",
      "Data columns (total 14 columns):\n",
      " #   Column           Non-Null Count  Dtype  \n",
      "---  ------           --------------  -----  \n",
      " 0   RowNumber        10000 non-null  int64  \n",
      " 1   CustomerId       10000 non-null  int64  \n",
      " 2   Surname          10000 non-null  object \n",
      " 3   CreditScore      10000 non-null  int64  \n",
      " 4   Geography        10000 non-null  object \n",
      " 5   Gender           10000 non-null  object \n",
      " 6   Age              10000 non-null  int64  \n",
      " 7   Tenure           9091 non-null   float64\n",
      " 8   Balance          10000 non-null  float64\n",
      " 9   NumOfProducts    10000 non-null  int64  \n",
      " 10  HasCrCard        10000 non-null  int64  \n",
      " 11  IsActiveMember   10000 non-null  int64  \n",
      " 12  EstimatedSalary  10000 non-null  float64\n",
      " 13  Exited           10000 non-null  int64  \n",
      "dtypes: float64(3), int64(8), object(3)\n",
      "memory usage: 1.1+ MB\n"
     ]
    }
   ],
   "source": [
    "# Check for null values, duplicates, and inappropriate data types \n",
    "data.info()"
   ]
  },
  {
   "cell_type": "code",
   "execution_count": 118,
   "metadata": {},
   "outputs": [
    {
     "data": {
      "text/plain": [
       "0"
      ]
     },
     "execution_count": 118,
     "metadata": {},
     "output_type": "execute_result"
    }
   ],
   "source": [
    "data.duplicated().sum()"
   ]
  },
  {
   "cell_type": "code",
   "execution_count": 119,
   "metadata": {},
   "outputs": [
    {
     "data": {
      "text/plain": [
       "0"
      ]
     },
     "execution_count": 119,
     "metadata": {},
     "output_type": "execute_result"
    }
   ],
   "source": [
    "data['CustomerId'].duplicated().sum()"
   ]
  },
  {
   "cell_type": "code",
   "execution_count": 120,
   "metadata": {},
   "outputs": [
    {
     "data": {
      "text/html": [
       "<div>\n",
       "<style scoped>\n",
       "    .dataframe tbody tr th:only-of-type {\n",
       "        vertical-align: middle;\n",
       "    }\n",
       "\n",
       "    .dataframe tbody tr th {\n",
       "        vertical-align: top;\n",
       "    }\n",
       "\n",
       "    .dataframe thead th {\n",
       "        text-align: right;\n",
       "    }\n",
       "</style>\n",
       "<table border=\"1\" class=\"dataframe\">\n",
       "  <thead>\n",
       "    <tr style=\"text-align: right;\">\n",
       "      <th></th>\n",
       "      <th>RowNumber</th>\n",
       "      <th>CustomerId</th>\n",
       "      <th>Surname</th>\n",
       "      <th>CreditScore</th>\n",
       "      <th>Geography</th>\n",
       "      <th>Gender</th>\n",
       "      <th>Age</th>\n",
       "      <th>Tenure</th>\n",
       "      <th>Balance</th>\n",
       "      <th>NumOfProducts</th>\n",
       "      <th>HasCrCard</th>\n",
       "      <th>IsActiveMember</th>\n",
       "      <th>EstimatedSalary</th>\n",
       "      <th>Exited</th>\n",
       "    </tr>\n",
       "  </thead>\n",
       "  <tbody>\n",
       "    <tr>\n",
       "      <th>7397</th>\n",
       "      <td>7398</td>\n",
       "      <td>15744044</td>\n",
       "      <td>Fiorentini</td>\n",
       "      <td>572</td>\n",
       "      <td>Germany</td>\n",
       "      <td>Male</td>\n",
       "      <td>47</td>\n",
       "      <td>4.0</td>\n",
       "      <td>99353.42</td>\n",
       "      <td>1</td>\n",
       "      <td>1</td>\n",
       "      <td>0</td>\n",
       "      <td>196549.85</td>\n",
       "      <td>1</td>\n",
       "    </tr>\n",
       "    <tr>\n",
       "      <th>1590</th>\n",
       "      <td>1591</td>\n",
       "      <td>15651802</td>\n",
       "      <td>Day</td>\n",
       "      <td>632</td>\n",
       "      <td>Spain</td>\n",
       "      <td>Female</td>\n",
       "      <td>39</td>\n",
       "      <td>5.0</td>\n",
       "      <td>97854.37</td>\n",
       "      <td>2</td>\n",
       "      <td>1</td>\n",
       "      <td>0</td>\n",
       "      <td>93536.38</td>\n",
       "      <td>0</td>\n",
       "    </tr>\n",
       "    <tr>\n",
       "      <th>5004</th>\n",
       "      <td>5005</td>\n",
       "      <td>15625092</td>\n",
       "      <td>Colombo</td>\n",
       "      <td>502</td>\n",
       "      <td>Germany</td>\n",
       "      <td>Female</td>\n",
       "      <td>57</td>\n",
       "      <td>3.0</td>\n",
       "      <td>101465.31</td>\n",
       "      <td>1</td>\n",
       "      <td>1</td>\n",
       "      <td>0</td>\n",
       "      <td>43568.31</td>\n",
       "      <td>1</td>\n",
       "    </tr>\n",
       "  </tbody>\n",
       "</table>\n",
       "</div>"
      ],
      "text/plain": [
       "      RowNumber  CustomerId     Surname  CreditScore Geography  Gender  Age  \\\n",
       "7397       7398    15744044  Fiorentini          572   Germany    Male   47   \n",
       "1590       1591    15651802         Day          632     Spain  Female   39   \n",
       "5004       5005    15625092     Colombo          502   Germany  Female   57   \n",
       "\n",
       "      Tenure    Balance  NumOfProducts  HasCrCard  IsActiveMember  \\\n",
       "7397     4.0   99353.42              1          1               0   \n",
       "1590     5.0   97854.37              2          1               0   \n",
       "5004     3.0  101465.31              1          1               0   \n",
       "\n",
       "      EstimatedSalary  Exited  \n",
       "7397        196549.85       1  \n",
       "1590         93536.38       0  \n",
       "5004         43568.31       1  "
      ]
     },
     "execution_count": 120,
     "metadata": {},
     "output_type": "execute_result"
    }
   ],
   "source": [
    "data.sample(3)"
   ]
  },
  {
   "cell_type": "markdown",
   "metadata": {},
   "source": [
    "##### Correcting  Data Issues\n",
    "- Approximately 9% of rows contain a null value in the tenure column. This will be replaced with the median tenure for each age group. "
   ]
  },
  {
   "cell_type": "code",
   "execution_count": 121,
   "metadata": {},
   "outputs": [
    {
     "name": "stdout",
     "output_type": "stream",
     "text": [
      "<class 'pandas.core.frame.DataFrame'>\n",
      "RangeIndex: 10000 entries, 0 to 9999\n",
      "Data columns (total 14 columns):\n",
      " #   Column           Non-Null Count  Dtype  \n",
      "---  ------           --------------  -----  \n",
      " 0   RowNumber        10000 non-null  int64  \n",
      " 1   CustomerId       10000 non-null  int64  \n",
      " 2   Surname          10000 non-null  object \n",
      " 3   CreditScore      10000 non-null  int64  \n",
      " 4   Geography        10000 non-null  object \n",
      " 5   Gender           10000 non-null  object \n",
      " 6   Age              10000 non-null  int64  \n",
      " 7   Tenure           10000 non-null  float64\n",
      " 8   Balance          10000 non-null  float64\n",
      " 9   NumOfProducts    10000 non-null  int64  \n",
      " 10  HasCrCard        10000 non-null  int64  \n",
      " 11  IsActiveMember   10000 non-null  int64  \n",
      " 12  EstimatedSalary  10000 non-null  float64\n",
      " 13  Exited           10000 non-null  int64  \n",
      "dtypes: float64(3), int64(8), object(3)\n",
      "memory usage: 1.1+ MB\n"
     ]
    }
   ],
   "source": [
    "# Replace null values in tenure column with median for age\n",
    "grouped_avg = data.groupby('Age')['Tenure'].transform('median')\n",
    "data['Tenure'] = data['Tenure'].fillna(grouped_avg)\n",
    "\n",
    "# Check Work \n",
    "data.info()"
   ]
  },
  {
   "cell_type": "markdown",
   "metadata": {},
   "source": [
    "##### Exploring the Data"
   ]
  },
  {
   "cell_type": "code",
   "execution_count": 122,
   "metadata": {},
   "outputs": [
    {
     "data": {
      "text/html": [
       "<div>\n",
       "<style scoped>\n",
       "    .dataframe tbody tr th:only-of-type {\n",
       "        vertical-align: middle;\n",
       "    }\n",
       "\n",
       "    .dataframe tbody tr th {\n",
       "        vertical-align: top;\n",
       "    }\n",
       "\n",
       "    .dataframe thead th {\n",
       "        text-align: right;\n",
       "    }\n",
       "</style>\n",
       "<table border=\"1\" class=\"dataframe\">\n",
       "  <thead>\n",
       "    <tr style=\"text-align: right;\">\n",
       "      <th></th>\n",
       "      <th>RowNumber</th>\n",
       "      <th>CustomerId</th>\n",
       "      <th>CreditScore</th>\n",
       "      <th>Age</th>\n",
       "      <th>Tenure</th>\n",
       "      <th>Balance</th>\n",
       "      <th>NumOfProducts</th>\n",
       "      <th>HasCrCard</th>\n",
       "      <th>IsActiveMember</th>\n",
       "      <th>EstimatedSalary</th>\n",
       "      <th>Exited</th>\n",
       "    </tr>\n",
       "  </thead>\n",
       "  <tbody>\n",
       "    <tr>\n",
       "      <th>count</th>\n",
       "      <td>10000.00000</td>\n",
       "      <td>1.000000e+04</td>\n",
       "      <td>10000.000000</td>\n",
       "      <td>10000.000000</td>\n",
       "      <td>10000.000000</td>\n",
       "      <td>10000.000000</td>\n",
       "      <td>10000.000000</td>\n",
       "      <td>10000.00000</td>\n",
       "      <td>10000.000000</td>\n",
       "      <td>10000.000000</td>\n",
       "      <td>10000.000000</td>\n",
       "    </tr>\n",
       "    <tr>\n",
       "      <th>mean</th>\n",
       "      <td>5000.50000</td>\n",
       "      <td>1.569094e+07</td>\n",
       "      <td>650.528800</td>\n",
       "      <td>38.921800</td>\n",
       "      <td>4.995800</td>\n",
       "      <td>76485.889288</td>\n",
       "      <td>1.530200</td>\n",
       "      <td>0.70550</td>\n",
       "      <td>0.515100</td>\n",
       "      <td>100090.239881</td>\n",
       "      <td>0.203700</td>\n",
       "    </tr>\n",
       "    <tr>\n",
       "      <th>std</th>\n",
       "      <td>2886.89568</td>\n",
       "      <td>7.193619e+04</td>\n",
       "      <td>96.653299</td>\n",
       "      <td>10.487806</td>\n",
       "      <td>2.762118</td>\n",
       "      <td>62397.405202</td>\n",
       "      <td>0.581654</td>\n",
       "      <td>0.45584</td>\n",
       "      <td>0.499797</td>\n",
       "      <td>57510.492818</td>\n",
       "      <td>0.402769</td>\n",
       "    </tr>\n",
       "    <tr>\n",
       "      <th>min</th>\n",
       "      <td>1.00000</td>\n",
       "      <td>1.556570e+07</td>\n",
       "      <td>350.000000</td>\n",
       "      <td>18.000000</td>\n",
       "      <td>0.000000</td>\n",
       "      <td>0.000000</td>\n",
       "      <td>1.000000</td>\n",
       "      <td>0.00000</td>\n",
       "      <td>0.000000</td>\n",
       "      <td>11.580000</td>\n",
       "      <td>0.000000</td>\n",
       "    </tr>\n",
       "    <tr>\n",
       "      <th>25%</th>\n",
       "      <td>2500.75000</td>\n",
       "      <td>1.562853e+07</td>\n",
       "      <td>584.000000</td>\n",
       "      <td>32.000000</td>\n",
       "      <td>3.000000</td>\n",
       "      <td>0.000000</td>\n",
       "      <td>1.000000</td>\n",
       "      <td>0.00000</td>\n",
       "      <td>0.000000</td>\n",
       "      <td>51002.110000</td>\n",
       "      <td>0.000000</td>\n",
       "    </tr>\n",
       "    <tr>\n",
       "      <th>50%</th>\n",
       "      <td>5000.50000</td>\n",
       "      <td>1.569074e+07</td>\n",
       "      <td>652.000000</td>\n",
       "      <td>37.000000</td>\n",
       "      <td>5.000000</td>\n",
       "      <td>97198.540000</td>\n",
       "      <td>1.000000</td>\n",
       "      <td>1.00000</td>\n",
       "      <td>1.000000</td>\n",
       "      <td>100193.915000</td>\n",
       "      <td>0.000000</td>\n",
       "    </tr>\n",
       "    <tr>\n",
       "      <th>75%</th>\n",
       "      <td>7500.25000</td>\n",
       "      <td>1.575323e+07</td>\n",
       "      <td>718.000000</td>\n",
       "      <td>44.000000</td>\n",
       "      <td>7.000000</td>\n",
       "      <td>127644.240000</td>\n",
       "      <td>2.000000</td>\n",
       "      <td>1.00000</td>\n",
       "      <td>1.000000</td>\n",
       "      <td>149388.247500</td>\n",
       "      <td>0.000000</td>\n",
       "    </tr>\n",
       "    <tr>\n",
       "      <th>max</th>\n",
       "      <td>10000.00000</td>\n",
       "      <td>1.581569e+07</td>\n",
       "      <td>850.000000</td>\n",
       "      <td>92.000000</td>\n",
       "      <td>10.000000</td>\n",
       "      <td>250898.090000</td>\n",
       "      <td>4.000000</td>\n",
       "      <td>1.00000</td>\n",
       "      <td>1.000000</td>\n",
       "      <td>199992.480000</td>\n",
       "      <td>1.000000</td>\n",
       "    </tr>\n",
       "  </tbody>\n",
       "</table>\n",
       "</div>"
      ],
      "text/plain": [
       "         RowNumber    CustomerId   CreditScore           Age        Tenure  \\\n",
       "count  10000.00000  1.000000e+04  10000.000000  10000.000000  10000.000000   \n",
       "mean    5000.50000  1.569094e+07    650.528800     38.921800      4.995800   \n",
       "std     2886.89568  7.193619e+04     96.653299     10.487806      2.762118   \n",
       "min        1.00000  1.556570e+07    350.000000     18.000000      0.000000   \n",
       "25%     2500.75000  1.562853e+07    584.000000     32.000000      3.000000   \n",
       "50%     5000.50000  1.569074e+07    652.000000     37.000000      5.000000   \n",
       "75%     7500.25000  1.575323e+07    718.000000     44.000000      7.000000   \n",
       "max    10000.00000  1.581569e+07    850.000000     92.000000     10.000000   \n",
       "\n",
       "             Balance  NumOfProducts    HasCrCard  IsActiveMember  \\\n",
       "count   10000.000000   10000.000000  10000.00000    10000.000000   \n",
       "mean    76485.889288       1.530200      0.70550        0.515100   \n",
       "std     62397.405202       0.581654      0.45584        0.499797   \n",
       "min         0.000000       1.000000      0.00000        0.000000   \n",
       "25%         0.000000       1.000000      0.00000        0.000000   \n",
       "50%     97198.540000       1.000000      1.00000        1.000000   \n",
       "75%    127644.240000       2.000000      1.00000        1.000000   \n",
       "max    250898.090000       4.000000      1.00000        1.000000   \n",
       "\n",
       "       EstimatedSalary        Exited  \n",
       "count     10000.000000  10000.000000  \n",
       "mean     100090.239881      0.203700  \n",
       "std       57510.492818      0.402769  \n",
       "min          11.580000      0.000000  \n",
       "25%       51002.110000      0.000000  \n",
       "50%      100193.915000      0.000000  \n",
       "75%      149388.247500      0.000000  \n",
       "max      199992.480000      1.000000  "
      ]
     },
     "execution_count": 122,
     "metadata": {},
     "output_type": "execute_result"
    }
   ],
   "source": [
    "data.describe()"
   ]
  },
  {
   "cell_type": "code",
   "execution_count": 123,
   "metadata": {},
   "outputs": [
    {
     "data": {
      "image/png": "[encoded data removed]",
      "text/plain": [
       "<Figure size 640x480 with 1 Axes>"
      ]
     },
     "metadata": {},
     "output_type": "display_data"
    }
   ],
   "source": [
    "# Create a histogram of the 'Age' column\n",
    "plt.hist(data['Age'], bins=20, color='skyblue', edgecolor='black')\n",
    "\n",
    "# Add labels and title\n",
    "plt.xlabel('Age')\n",
    "plt.ylabel('Number of Instances')\n",
    "plt.title('Distribution of Age')\n",
    "\n",
    "# Show the plot\n",
    "plt.show()"
   ]
  },
  {
   "cell_type": "code",
   "execution_count": 124,
   "metadata": {},
   "outputs": [
    {
     "data": {
      "image/png": "[encoded data removed]",
      "text/plain": [
       "<Figure size 640x480 with 1 Axes>"
      ]
     },
     "metadata": {},
     "output_type": "display_data"
    }
   ],
   "source": [
    "# Create a histogram of the 'CreditScore' column\n",
    "plt.hist(data['CreditScore'], bins=30, color='skyblue', edgecolor='black')\n",
    "\n",
    "# Add labels and title\n",
    "plt.xlabel('Credit Score')\n",
    "plt.ylabel('Number of Instances')\n",
    "plt.title('Distribution of Credit Score')\n",
    "\n",
    "# Show the plot\n",
    "plt.show()"
   ]
  },
  {
   "cell_type": "code",
   "execution_count": 125,
   "metadata": {},
   "outputs": [
    {
     "data": {
      "image/png": "[encoded data removed]",
      "text/plain": [
       "<Figure size 640x480 with 1 Axes>"
      ]
     },
     "metadata": {},
     "output_type": "display_data"
    }
   ],
   "source": [
    "# Create a histogram of the 'Tenure' column\n",
    "plt.hist(data['Tenure'], bins=10, color='skyblue', edgecolor='black')\n",
    "\n",
    "# Add labels and title\n",
    "plt.xlabel('Tenure')\n",
    "plt.ylabel('Number of Instances')\n",
    "plt.title('Distribution of Tenure')\n",
    "\n",
    "# Show the plot\n",
    "plt.show()"
   ]
  },
  {
   "cell_type": "code",
   "execution_count": 126,
   "metadata": {},
   "outputs": [
    {
     "data": {
      "image/png": "[encoded data removed]",
      "text/plain": [
       "<Figure size 640x480 with 1 Axes>"
      ]
     },
     "metadata": {},
     "output_type": "display_data"
    }
   ],
   "source": [
    "# Create a histogram of the 'EstimatedSalary' column\n",
    "plt.hist(data['EstimatedSalary'], bins=100, color='skyblue', edgecolor='black')\n",
    "\n",
    "# Add labels and title\n",
    "plt.xlabel('EstimatedSalary')\n",
    "plt.ylabel('Number of Instances')\n",
    "plt.title('Distribution of Estimated Salary')\n",
    "\n",
    "# Show the plot\n",
    "plt.show()"
   ]
  },
  {
   "cell_type": "code",
   "execution_count": 127,
   "metadata": {},
   "outputs": [
    {
     "data": {
      "image/png": "[encoded data removed]",
      "text/plain": [
       "<Figure size 640x480 with 1 Axes>"
      ]
     },
     "metadata": {},
     "output_type": "display_data"
    }
   ],
   "source": [
    "# Count the occurrences of each unique value in the 'Exited' column\n",
    "exit_counts = data['Exited'].value_counts()\n",
    "\n",
    "# Plotting the bar graph\n",
    "exit_counts.plot(kind='bar', color='skyblue')\n",
    "\n",
    "# Adding labels and title\n",
    "plt.xlabel('Exited')\n",
    "plt.ylabel('Number of Instances')\n",
    "plt.title('Bar Graph of Exited')\n",
    "\n",
    "# Show the plot\n",
    "plt.show()"
   ]
  },
  {
   "cell_type": "markdown",
   "metadata": {},
   "source": [
    "##### Prepare the data to be used in models using one-hot encoding & Split into sets"
   ]
  },
  {
   "cell_type": "code",
   "execution_count": 128,
   "metadata": {},
   "outputs": [
    {
     "name": "stdout",
     "output_type": "stream",
     "text": [
      "features_train size:  (6000, 2944)\n",
      "target_train size:  (6000,)\n",
      "features_valid size:  (2000, 2944)\n",
      "target_valid size:  (2000,)\n",
      "features_valid size:  (2000, 2944)\n",
      "target_valid size:  (2000,)\n"
     ]
    }
   ],
   "source": [
    "df = pd.get_dummies(data, drop_first=True)\n",
    "\n",
    "# Split the data into target and features\n",
    "target = df['Exited']\n",
    "features = df.drop('Exited', axis=1)\n",
    "\n",
    "# Split off the training set\n",
    "features_train, features_temp, target_train, target_temp = train_test_split(features, target, test_size=0.40, random_state=12345, stratify=target)\n",
    "\n",
    "# Split temp set into validation and testing sets\n",
    "features_valid, features_test, target_valid, target_test = train_test_split(features_temp, target_temp, test_size=0.50, random_state=12345, stratify=target_temp)\n",
    "\n",
    "print('features_train size: ', features_train.shape)\n",
    "print('target_train size: ', target_train.shape)\n",
    "\n",
    "print('features_valid size: ', features_valid.shape)\n",
    "print('target_valid size: ', target_valid.shape)\n",
    "\n",
    "print('features_valid size: ', features_valid.shape)\n",
    "print('target_valid size: ', target_valid.shape)"
   ]
  },
  {
   "cell_type": "markdown",
   "metadata": {},
   "source": [
    "##### Scale Data "
   ]
  },
  {
   "cell_type": "code",
   "execution_count": 129,
   "metadata": {},
   "outputs": [],
   "source": [
    "# Create a scaler instance\n",
    "scaler = StandardScaler()\n",
    "\n",
    "# Fit the scaler on the training data and transform it\n",
    "features_train= scaler.fit_transform(features_train)\n",
    "\n",
    "# Transform the validation and testing data using the same scaler\n",
    "features_valid = scaler.transform(features_valid)\n",
    "features_test= scaler.transform(features_test)"
   ]
  },
  {
   "cell_type": "markdown",
   "metadata": {},
   "source": [
    "**Data Prep Conclusions and Observations**\n",
    "- It can be observed that age and credit score are normally distributed while tenure and estimated salary do not have a normal distribution.\n",
    "- It can be observed that the target value of 'Exited' is imbalanced. "
   ]
  },
  {
   "cell_type": "markdown",
   "metadata": {},
   "source": [
    "### Class Imbalance Examination\n",
    "---\n",
    "In this section, the balance of classes will be accessed to understand the distribution of the target variable ('Exited'). First, a Class Imbalance Ratio will be calculated for the target variable in the training set. This ratio will provide insight into any potential class imbalances within the dataset, indicating whether certain classes are significantly more prevalent than others. Subsequently, the analysis will proceed to train and assess the model without taking into account the identified class imbalance. By doing so, the aim is to understand the impact of class distribution on model performance and explore potential challenges or biases that may arise when disregarding class imbalances during model training and evaluation."
   ]
  },
  {
   "cell_type": "markdown",
   "metadata": {},
   "source": [
    "#### Calculate class Imbalance Ratio"
   ]
  },
  {
   "cell_type": "code",
   "execution_count": 130,
   "metadata": {},
   "outputs": [
    {
     "name": "stdout",
     "output_type": "stream",
     "text": [
      "Class Imbalance Ratio for the trainng set: 3.909983633387889\n"
     ]
    }
   ],
   "source": [
    "# Count the occurrences of each class in the target variable in the training set \n",
    "class_counts = target_train.value_counts()\n",
    "\n",
    "# Calculate the ratio by dividing the count of the majority class by the count of the minority class\n",
    "imbalance_ratio = class_counts.max() / class_counts.min()\n",
    "\n",
    "print(\"Class Imbalance Ratio for the trainng set:\", imbalance_ratio)"
   ]
  },
  {
   "cell_type": "code",
   "execution_count": 131,
   "metadata": {},
   "outputs": [
    {
     "data": {
      "text/plain": [
       "Exited\n",
       "0    4778\n",
       "1    1222\n",
       "Name: count, dtype: int64"
      ]
     },
     "execution_count": 131,
     "metadata": {},
     "output_type": "execute_result"
    }
   ],
   "source": [
    "class_counts"
   ]
  },
  {
   "cell_type": "markdown",
   "metadata": {},
   "source": [
    "#### Train and Access Models with the Class Imbalance"
   ]
  },
  {
   "cell_type": "markdown",
   "metadata": {},
   "source": [
    "##### Decision Tree with Imbalance"
   ]
  },
  {
   "cell_type": "code",
   "execution_count": 132,
   "metadata": {},
   "outputs": [
    {
     "name": "stdout",
     "output_type": "stream",
     "text": [
      "The f1 score for the Decision tree model with class imbalance:  0.5537294563843236\n",
      "The AUC ROC score for the Decision tree model with class imbalance:  0.7168748152527342\n"
     ]
    }
   ],
   "source": [
    "# Set up and train model \n",
    "model = DecisionTreeClassifier(random_state=12345)\n",
    "model.fit(features_train, target_train)\n",
    "# Predict values \n",
    "predicted_valid = model.predict(features_valid)\n",
    "\n",
    "# Calculate f1 score \n",
    "print(\"The f1 score for the Decision tree model with class imbalance: \",f1_score(target_valid, predicted_valid))\n",
    "print(\"The AUC ROC score for the Decision tree model with class imbalance: \", roc_auc_score(target_valid, predicted_valid))"
   ]
  },
  {
   "cell_type": "markdown",
   "metadata": {},
   "source": [
    "##### Random Forest with inbalance "
   ]
  },
  {
   "cell_type": "code",
   "execution_count": 133,
   "metadata": {},
   "outputs": [
    {
     "name": "stdout",
     "output_type": "stream",
     "text": [
      "The f1 score for the Random Forest model with class imbalance:  0.5351170568561874\n",
      "The AUC ROC score for the Random Forest model with class imbalance:  0.6866563208197851\n"
     ]
    }
   ],
   "source": [
    "# Set up and train model \n",
    "model = RandomForestClassifier(random_state=12345)\n",
    "model.fit(features_train, target_train)\n",
    "# Predict values \n",
    "predicted_valid = model.predict(features_valid)\n",
    "\n",
    "# Calculate f1 score \n",
    "print(\"The f1 score for the Random Forest model with class imbalance: \",f1_score(target_valid, predicted_valid))\n",
    "print(\"The AUC ROC score for the Random Forest model with class imbalance: \", roc_auc_score(target_valid, predicted_valid))"
   ]
  },
  {
   "cell_type": "markdown",
   "metadata": {},
   "source": [
    "##### Logistic Regression with inbalance "
   ]
  },
  {
   "cell_type": "code",
   "execution_count": 134,
   "metadata": {},
   "outputs": [
    {
     "name": "stdout",
     "output_type": "stream",
     "text": [
      "The f1 score for the Logistic Regression model with class imbalance:  0.27070063694267515\n",
      "The AUC ROC score for the Logistic Regression model with class imbalance:  0.5617671691792294\n"
     ]
    }
   ],
   "source": [
    "# Set up and train model \n",
    "model = LogisticRegression(random_state=12345, solver='liblinear')\n",
    "model.fit(features_train, target_train)\n",
    "predicted_valid = model.predict(features_valid)\n",
    "\n",
    "# Calculate f1 score \n",
    "print(\"The f1 score for the Logistic Regression model with class imbalance: \",f1_score(target_valid, predicted_valid))\n",
    "print(\"The AUC ROC score for the Logistic Regression model with class imbalance: \", roc_auc_score(target_valid, predicted_valid))"
   ]
  },
  {
   "cell_type": "markdown",
   "metadata": {},
   "source": [
    "#### Results \n",
    "- A class imbalance ratio of 4.016722408026756 for the training set indicates that there is a significant class imbalance in the dataset. Specifically, it means that one class (the minority class, 1 (Exited = true)) is roughly four times less frequent than the other class (the majority class, 0 (Exited = false)) in the training data. \n",
    "- The F1 score of 0.5351170568561874 for the Decision Tree model with class imbalance indicates the harmonic mean of precision and recall achieved by the model. It suggests that the model's performance in correctly identifying instances of both classes, taking into account both false positives and false negatives, is somewhat low performing.\n",
    "- The F1 score of 0.27070063694267515 for the Logistic Regression model with class imbalance indicates the harmonic mean of precision and recall achieved by the model. It suggests that the model's performance in correctly identifying instances of both classes, taking into account both false positives and false negatives, is low performing."
   ]
  },
  {
   "cell_type": "markdown",
   "metadata": {},
   "source": [
    "### Improve Model Quality \n",
    "---\n",
    "Class weight adjustment and upsampling "
   ]
  },
  {
   "cell_type": "markdown",
   "metadata": {},
   "source": [
    "#### Class Weight Adjustment\n",
    "\n",
    "Train and assess the Decision Tree, Random Forest, and Logistic Regression models with the class_weight='balanced' argument. "
   ]
  },
  {
   "cell_type": "markdown",
   "metadata": {},
   "source": [
    "##### Decision tree with balanced classes and various depths"
   ]
  },
  {
   "cell_type": "code",
   "execution_count": 135,
   "metadata": {},
   "outputs": [
    {
     "name": "stdout",
     "output_type": "stream",
     "text": [
      "F1 Score of the best Decision Tree model on the validation set:  0.5834333733493396\n",
      "The Decision Tree model with the highest F1 had a max depth of:  18\n",
      "The Decision Tree model with the highest F1 had a AUC ROC of:  0.7406333136269584\n"
     ]
    }
   ],
   "source": [
    "# Initialize variables to hold info on the model with the highest accuracy\n",
    "best_model = None\n",
    "f1_best = 0\n",
    "best_depth = 0\n",
    "best_ar = 0 \n",
    "\n",
    "# Loop through various max depths to establish which produces the model with the highest accuracy \n",
    "for depth in range(1, 20):\n",
    "    model = DecisionTreeClassifier(random_state=12345, class_weight='balanced', max_depth= depth)\n",
    "    # train the model\n",
    "    model.fit(features_train, target_train)\n",
    "    # get the model's predictions\n",
    "    predictions_valid = model.predict(features_valid) \n",
    "    # calculate the f1 and Auc Roc\n",
    "    result = f1_score(target_valid, predictions_valid)\n",
    "    ar = roc_auc_score(target_valid, predictions_valid)\n",
    "    # Compare new accuracy to previous highest accuracy\n",
    "    if result > f1_best:  \n",
    "        best_model = model\n",
    "        f1_best = result\n",
    "        best_depth = depth\n",
    "        best_ar = ar\n",
    "        \n",
    "        \n",
    "print(\"F1 Score of the best Decision Tree model on the validation set: \", f1_best)\n",
    "print(\"The Decision Tree model with the highest F1 had a max depth of: \", best_depth)\n",
    "print(\"The Decision Tree model with the highest F1 had a AUC ROC of: \", best_ar)"
   ]
  },
  {
   "cell_type": "markdown",
   "metadata": {},
   "source": [
    "##### Random Forest with balanced classes and various estimators"
   ]
  },
  {
   "cell_type": "code",
   "execution_count": 136,
   "metadata": {},
   "outputs": [
    {
     "name": "stdout",
     "output_type": "stream",
     "text": [
      "F1 Score of the best Random Forest model on the validation set:  0.48239436619718307\n",
      "The Random Forest model with the highest F1 score had this many estimators:  100\n",
      "The Random Forest model with the highest F1 score had an Auc Roc Score of:  0.6606685387722928\n"
     ]
    }
   ],
   "source": [
    "# Initialize variables to hold info on the model with the highest accuracy\n",
    "best_model = None\n",
    "f1_best = 0\n",
    "best_depth = 0\n",
    "best_estimators = 0\n",
    "best_ar = 0 \n",
    "\n",
    "# List of estimators to try\n",
    "estimators_to_try = [50, 100, 200, 300]\n",
    "\n",
    "for est in estimators_to_try:\n",
    "    model = RandomForestClassifier(random_state=12345, class_weight='balanced', n_estimators=est, max_depth=None)\n",
    "\n",
    "    # Train the model\n",
    "    model.fit(features_train, target_train)\n",
    "\n",
    "    # Get the model's predictions\n",
    "    predictions_valid = model.predict(features_valid)\n",
    "\n",
    "     # Calculate the accuracy\n",
    "    result = f1_score(target_valid, predictions_valid)\n",
    "    ar = roc_auc_score(target_valid, predictions_valid)\n",
    "\n",
    "    # Compare new accuracy to previous highest accuracy\n",
    "    if result > f1_best:\n",
    "        best_model = model\n",
    "        f1_best = result\n",
    "        best_estimators = est\n",
    "        best_ar = ar\n",
    "            \n",
    "print(\"F1 Score of the best Random Forest model on the validation set: \", f1_best)\n",
    "print(\"The Random Forest model with the highest F1 score had this many estimators: \", best_estimators)\n",
    "print(\"The Random Forest model with the highest F1 score had an Auc Roc Score of: \", best_ar)"
   ]
  },
  {
   "cell_type": "markdown",
   "metadata": {},
   "source": [
    "##### Logistic Regression with balanced classes"
   ]
  },
  {
   "cell_type": "code",
   "execution_count": 137,
   "metadata": {},
   "outputs": [
    {
     "name": "stdout",
     "output_type": "stream",
     "text": [
      "Logistic Regression with balanced classes F1 Score: 0.38436482084690554\n",
      "Logistic Regression with balanced classes AUC ROC Score: 0.6113841265149276\n"
     ]
    }
   ],
   "source": [
    "model = LogisticRegression(random_state=12345, class_weight='balanced', solver='liblinear')\n",
    "model.fit(features_train, target_train)\n",
    "predicted_valid = model.predict(features_valid)\n",
    "print('Logistic Regression with balanced classes F1 Score:', f1_score(target_valid, predicted_valid))\n",
    "print('Logistic Regression with balanced classes AUC ROC Score:', roc_auc_score(target_valid, predicted_valid))"
   ]
  },
  {
   "cell_type": "markdown",
   "metadata": {},
   "source": [
    "#### Upsampling\n",
    "Increase the number of instances of the minority case in the traing set. "
   ]
  },
  {
   "cell_type": "code",
   "execution_count": 138,
   "metadata": {},
   "outputs": [
    {
     "name": "stdout",
     "output_type": "stream",
     "text": [
      "Upsampled features shape: (9666, 2944)\n",
      "Upsampled target shape: (9666,)\n"
     ]
    }
   ],
   "source": [
    "def upsample(features, target, repeat):\n",
    "    features_zeros = pd.DataFrame(features[target == 0])\n",
    "    features_ones = pd.DataFrame(features[target == 1])\n",
    "    target_zeros = pd.DataFrame(target[target == 0])\n",
    "    target_ones = pd.DataFrame(target[target == 1])\n",
    "\n",
    "    features_upsampled = pd.concat([features_zeros] + [features_ones] * repeat)\n",
    "    target_upsampled = pd.concat([target_zeros] + [target_ones] * repeat)\n",
    "\n",
    "    features_upsampled, target_upsampled = shuffle(\n",
    "        features_upsampled, target_upsampled, random_state=12345\n",
    "    )\n",
    "    target_upsampled = np.ravel(target_upsampled)\n",
    "\n",
    "    return features_upsampled, target_upsampled\n",
    "\n",
    "# Upsample the minority class in target_train (class 1)\n",
    "features_upsampled, target_upsampled = upsample(features_train, target_train, 4)\n",
    "\n",
    "# Check the shape of the upsampled data\n",
    "print(\"Upsampled features shape:\", features_upsampled.shape)\n",
    "print(\"Upsampled target shape:\", target_upsampled.shape)\n",
    "\n"
   ]
  },
  {
   "cell_type": "markdown",
   "metadata": {},
   "source": [
    "##### Decision Tree with Upsampled Data"
   ]
  },
  {
   "cell_type": "code",
   "execution_count": 139,
   "metadata": {},
   "outputs": [
    {
     "name": "stdout",
     "output_type": "stream",
     "text": [
      "F1 Score of the best Decision Tree model on the validation set:  0.5839080459770115\n",
      "The Decision Tree model with the highest f1 had a max depth of:  17\n",
      "The Decision Tree model with the highest f1 had an AUC ROC of:  0.7459478766380924\n"
     ]
    }
   ],
   "source": [
    "# Initialize variables to hold info on the model with the highest accuracy\n",
    "best_model = None\n",
    "f1_best = 0\n",
    "best_depth = 0\n",
    "best_ar = 0\n",
    "\n",
    "# Loop through various max depths to establish which produces the model with the highest accuracy \n",
    "for depth in range(1, 20):\n",
    "    model = DecisionTreeClassifier(random_state=12345, max_depth= depth)\n",
    "    # train the model\n",
    "    model.fit(features_upsampled, target_upsampled)\n",
    "    # get the model's predictions\n",
    "    predictions_valid = model.predict(features_valid) \n",
    "    # calculate the f1 and Auc Roc\n",
    "    result = f1_score(target_valid, predictions_valid)\n",
    "    ar = roc_auc_score(target_valid, predictions_valid)\n",
    "    # Compare new accuracy to previous highest accuracy\n",
    "    if result > f1_best:  \n",
    "        best_model = model\n",
    "        f1_best = result\n",
    "        best_depth = depth\n",
    "        best_ar = ar\n",
    "        \n",
    "        \n",
    "print(\"F1 Score of the best Decision Tree model on the validation set: \", f1_best)\n",
    "print(\"The Decision Tree model with the highest f1 had a max depth of: \", best_depth)\n",
    "print(\"The Decision Tree model with the highest f1 had an AUC ROC of: \", best_ar)"
   ]
  },
  {
   "cell_type": "markdown",
   "metadata": {},
   "source": [
    "##### Random Forest with upsampled data and various depths and estimators"
   ]
  },
  {
   "cell_type": "code",
   "execution_count": 140,
   "metadata": {},
   "outputs": [
    {
     "name": "stdout",
     "output_type": "stream",
     "text": [
      "F1 Score of the best Random Forest model on the validation set:  0.583941605839416\n",
      "The Random Forest model with the highest F1 score had this many estimators:  300\n",
      "The Random Forest model with the highest F1 score had an AUC ROC of  0.7209146221302591\n"
     ]
    }
   ],
   "source": [
    "# Initialize variables to hold info on the model with the highest accuracy\n",
    "best_model = None\n",
    "f1_best = 0\n",
    "best_estimators = 0\n",
    "best_ar = 0 \n",
    "\n",
    "# List of estimators to try\n",
    "estimators_to_try = [50, 100, 200, 300] \n",
    "\n",
    "# Loop through various values of max_depth and n_estimators\n",
    "for est in estimators_to_try:\n",
    "    model = RandomForestClassifier(random_state=12345, n_estimators=est, max_depth=None)\n",
    "\n",
    "    # Train the model\n",
    "    model.fit(features_upsampled, target_upsampled)\n",
    "\n",
    "    # Get the model's predictions\n",
    "    predictions_valid = model.predict(features_valid)\n",
    "\n",
    "    # Calculate the accuracy\n",
    "    result = f1_score(target_valid, predictions_valid)\n",
    "    ar = roc_auc_score(target_valid, predictions_valid)\n",
    "\n",
    "    # Compare new accuracy to previous highest accuracy\n",
    "    if result > f1_best:\n",
    "        best_model = model\n",
    "        f1_best = result\n",
    "        best_estimators = est\n",
    "        best_ar = ar \n",
    "            \n",
    "print(\"F1 Score of the best Random Forest model on the validation set: \", f1_best)\n",
    "print(\"The Random Forest model with the highest F1 score had this many estimators: \", best_estimators)\n",
    "print(\"The Random Forest model with the highest F1 score had an AUC ROC of \", best_ar)"
   ]
  },
  {
   "cell_type": "markdown",
   "metadata": {},
   "source": [
    "##### Logistic Regression with Upsampled Data"
   ]
  },
  {
   "cell_type": "code",
   "execution_count": 141,
   "metadata": {},
   "outputs": [
    {
     "name": "stdout",
     "output_type": "stream",
     "text": [
      "Logistic Regression with upsampled data F1 Score: 0.3778501628664495\n",
      "Logistic Regression with upsampled data AUC ROC Score: 0.6067654448714159\n"
     ]
    }
   ],
   "source": [
    "model = LogisticRegression(random_state=12345, solver='liblinear')\n",
    "model.fit(features_upsampled, target_upsampled)\n",
    "predicted_valid = model.predict(features_valid)\n",
    "\n",
    "print('Logistic Regression with upsampled data F1 Score:', f1_score(target_valid, predicted_valid))\n",
    "print('Logistic Regression with upsampled data AUC ROC Score:', roc_auc_score(target_valid, predicted_valid))"
   ]
  },
  {
   "cell_type": "markdown",
   "metadata": {},
   "source": [
    "#### Downsampling "
   ]
  },
  {
   "cell_type": "code",
   "execution_count": 142,
   "metadata": {},
   "outputs": [],
   "source": [
    "def downsample(features, target, fraction):\n",
    "    features_zeros = pd.DataFrame(features[target == 0])\n",
    "    features_ones = pd.DataFrame(features[target == 1])\n",
    "    target_zeros = pd.DataFrame(target[target == 0])\n",
    "    target_ones = pd.DataFrame(target[target == 1])\n",
    "\n",
    "    features_downsampled = pd.concat(\n",
    "        [features_zeros.sample(frac=fraction, random_state=12345)] + [features_ones]\n",
    "    )\n",
    "    target_downsampled = pd.concat(\n",
    "        [target_zeros.sample(frac=fraction, random_state=12345)] + [target_ones]\n",
    "    )\n",
    "\n",
    "    features_downsampled, target_downsampled = shuffle(\n",
    "        features_downsampled, target_downsampled, random_state=12345\n",
    "    )\n",
    "    target_downsampled = np.ravel(target_downsampled)\n",
    "\n",
    "    return features_downsampled, target_downsampled\n",
    "\n",
    "\n",
    "features_downsampled, target_downsampled = downsample(\n",
    "    features_train, target_train, 0.25\n",
    ")"
   ]
  },
  {
   "cell_type": "markdown",
   "metadata": {},
   "source": [
    "##### Decision Tree with Downsampled Data"
   ]
  },
  {
   "cell_type": "code",
   "execution_count": 143,
   "metadata": {},
   "outputs": [
    {
     "name": "stdout",
     "output_type": "stream",
     "text": [
      "F1 Score of the best Decision Tree model on the validation set:  0.5940409683426443\n",
      "The Decision Tree model with the highest f1 had a max depth of:  7\n",
      "The Decision Tree model with the highest f1 had an AUC ROC of:  0.7819489604887181\n"
     ]
    }
   ],
   "source": [
    "# Initialize variables to hold info on the model with the highest accuracy\n",
    "best_model = None\n",
    "f1_best = 0\n",
    "best_depth = 0\n",
    "best_ar = 0\n",
    "\n",
    "# Loop through various max depths to establish which produces the model with the highest accuracy \n",
    "for depth in range(1, 20):\n",
    "    model = DecisionTreeClassifier(random_state=12345, max_depth= depth)\n",
    "    # train the model\n",
    "    model.fit(features_downsampled, target_downsampled)\n",
    "    # get the model's predictions\n",
    "    predictions_valid = model.predict(features_valid) \n",
    "    # calculate the f1 and Auc Roc\n",
    "    result = f1_score(target_valid, predictions_valid)\n",
    "    ar = roc_auc_score(target_valid, predictions_valid)\n",
    "    # Compare new accuracy to previous highest accuracy\n",
    "    if result > f1_best:  \n",
    "        best_model = model\n",
    "        f1_best = result\n",
    "        best_depth = depth\n",
    "        best_ar = ar\n",
    "        \n",
    "        \n",
    "print(\"F1 Score of the best Decision Tree model on the validation set: \", f1_best)\n",
    "print(\"The Decision Tree model with the highest f1 had a max depth of: \", best_depth)\n",
    "print(\"The Decision Tree model with the highest f1 had an AUC ROC of: \", best_ar)"
   ]
  },
  {
   "cell_type": "markdown",
   "metadata": {},
   "source": [
    "##### Random Forest with downsampled data "
   ]
  },
  {
   "cell_type": "code",
   "execution_count": 144,
   "metadata": {},
   "outputs": [
    {
     "name": "stdout",
     "output_type": "stream",
     "text": [
      "F1 Score of the best Random Forest model on the validation set:  0.5990697674418605\n",
      "The Random Forest model with the highest F1 score had this many estimators:  300\n",
      "The Random Forest model with the highest F1 score had an AUC ROC of  0.786253571780471\n"
     ]
    }
   ],
   "source": [
    "# Initialize variables to hold info on the model with the highest accuracy\n",
    "best_model = None\n",
    "f1_best = 0\n",
    "best_estimators = 0\n",
    "best_ar = 0 \n",
    "\n",
    "# List of estimators to try\n",
    "estimators_to_try = [50, 100, 200, 300]\n",
    "\n",
    "# Loop through various values of max_depth and n_estimators\n",
    "for est in estimators_to_try:\n",
    "    model = RandomForestClassifier(random_state=12345, n_estimators=est, max_depth=None)\n",
    "\n",
    "    # Train the model\n",
    "    model.fit(features_downsampled, target_downsampled)\n",
    "\n",
    "    # Get the model's predictions\n",
    "    predictions_valid = model.predict(features_valid)\n",
    "\n",
    "    # Calculate the accuracy\n",
    "    result = f1_score(target_valid, predictions_valid)\n",
    "    ar = roc_auc_score(target_valid, predictions_valid)\n",
    "\n",
    "    # Compare new accuracy to previous highest accuracy\n",
    "    if result > f1_best:\n",
    "        best_model = model\n",
    "        f1_best = result\n",
    "        best_estimators = est\n",
    "        best_ar = ar \n",
    "            \n",
    "print(\"F1 Score of the best Random Forest model on the validation set: \", f1_best)\n",
    "print(\"The Random Forest model with the highest F1 score had this many estimators: \", best_estimators)\n",
    "print(\"The Random Forest model with the highest F1 score had an AUC ROC of \", best_ar)"
   ]
  },
  {
   "cell_type": "markdown",
   "metadata": {},
   "source": [
    "##### Logistic Regression WIth Downsampled Data"
   ]
  },
  {
   "cell_type": "code",
   "execution_count": 145,
   "metadata": {},
   "outputs": [
    {
     "name": "stdout",
     "output_type": "stream",
     "text": [
      "Logistic Regression with downsampled data F1 Score: 0.39536679536679536\n",
      "Logistic Regression with downsampled data AUC ROC Score: 0.6155470982362794\n"
     ]
    }
   ],
   "source": [
    "model = LogisticRegression(random_state=12345, solver='liblinear')\n",
    "model.fit(features_downsampled, target_downsampled)\n",
    "predicted_valid = model.predict(features_valid)\n",
    "\n",
    "print('Logistic Regression with downsampled data F1 Score:', f1_score(target_valid, predicted_valid))\n",
    "print('Logistic Regression with downsampled data AUC ROC Score:', roc_auc_score(target_valid, predicted_valid))"
   ]
  },
  {
   "cell_type": "markdown",
   "metadata": {},
   "source": [
    "**Results:**\n",
    "\n",
    "It appears the the highest F1 score (0.5990697674418605) yields from the Random Forest model with 300 estimators and downsampled data."
   ]
  },
  {
   "cell_type": "markdown",
   "metadata": {},
   "source": [
    "#### Further Optimization with the Random Forest Model\n",
    "---\n",
    "In a final effort to optimize the F1 score, a threshold adjustment will also be tried in conjunction with the Random Forest model with 300 estimators and downsampled data."
   ]
  },
  {
   "cell_type": "code",
   "execution_count": 146,
   "metadata": {},
   "outputs": [
    {
     "name": "stdout",
     "output_type": "stream",
     "text": [
      "Threshold = 0.50 | Precision = 0.483, Recall = 0.789\n",
      "0.5990697674418605\n",
      "0.786253571780471\n",
      "Threshold = 0.52 | Precision = 0.507, Recall = 0.757\n",
      "0.6076696165191741\n",
      "0.7844553650605971\n",
      "Threshold = 0.54 | Precision = 0.534, Recall = 0.728\n",
      "0.6161825726141079\n",
      "0.7826263671297665\n",
      "Threshold = 0.56 | Precision = 0.551, Recall = 0.694\n",
      "0.6138828633405641\n",
      "0.7742634742339147\n",
      "Threshold = 0.58 | Precision = 0.562, Recall = 0.662\n",
      "0.6081081081081082\n",
      "0.7649275790718296\n",
      "Threshold = 0.60 | Precision = 0.580, Recall = 0.627\n",
      "0.6030624263839812\n",
      "0.7556224751207016\n",
      "Threshold = 0.62 | Precision = 0.604, Recall = 0.598\n",
      "0.6009852216748768\n",
      "0.7487683515617303\n",
      "Threshold = 0.64 | Precision = 0.631, Recall = 0.566\n",
      "0.5968992248062016\n",
      "0.7406887378066804\n",
      "Threshold = 0.66 | Precision = 0.667, Recall = 0.544\n",
      "0.5991902834008096\n",
      "0.7371970144841856\n",
      "Threshold = 0.68 | Precision = 0.691, Recall = 0.510\n",
      "0.5867418899858955\n",
      "0.7256934180707458\n",
      "Threshold = 0.70 | Precision = 0.714, Recall = 0.466\n",
      "0.5637982195845698\n",
      "0.7089737905212335\n",
      "Threshold = 0.72 | Precision = 0.720, Recall = 0.417\n",
      "0.5279503105590062\n",
      "0.6876046901172529\n",
      "Threshold = 0.74 | Precision = 0.744, Recall = 0.363\n",
      "0.4876441515650741\n",
      "0.6653549610799094\n",
      "Threshold = 0.76 | Precision = 0.798, Recall = 0.328\n",
      "0.4652777777777778\n",
      "0.6535372943147107\n",
      "Threshold = 0.78 | Precision = 0.810, Recall = 0.282\n",
      "0.4181818181818182\n",
      "0.632451473051532\n",
      "Threshold = 0.80 | Precision = 0.826, Recall = 0.233\n",
      "0.36328871892925435\n",
      "0.6101401615922751\n"
     ]
    }
   ],
   "source": [
    "# Initialize RandomForestClassifier\n",
    "model = RandomForestClassifier(random_state=12345, n_estimators=300, max_depth=None)\n",
    "\n",
    "# Train the model\n",
    "model.fit(features_downsampled, target_downsampled)\n",
    "\n",
    "# Predict probabilities for the positive class (class 1)\n",
    "probabilities_valid = model.predict_proba(features_valid)\n",
    "probabilities_one_valid = probabilities_valid[:, 1]\n",
    "\n",
    "# Loop through a range of thresholds\n",
    "for threshold in np.arange( 0.5, 0.8, 0.02):\n",
    "    # Convert predicted probabilities into binary predictions using the threshold\n",
    "    predicted_valid = probabilities_one_valid > threshold\n",
    "    \n",
    "    # Calculate precision and recall scores\n",
    "    precision = precision_score(target_valid, predicted_valid)\n",
    "    recall = recall_score(target_valid, predicted_valid)\n",
    "    f1 = f1_score(target_valid, predicted_valid)\n",
    "    ar = roc_auc_score(target_valid, predicted_valid)\n",
    "    \n",
    "    # Print the threshold, precision, and recall for each iteration\n",
    "    print('Threshold = {:.2f} | Precision = {:.3f}, Recall = {:.3f}'.format(threshold, precision, recall))\n",
    "    print(f1)\n",
    "    print(ar)\n"
   ]
  },
  {
   "cell_type": "markdown",
   "metadata": {},
   "source": [
    "**Result:**\n",
    "\n",
    "From the above test it can be observed that the optimal threshold is .54, resulting in an F1 score of 0.6161825726141079 and an AUC ROC of 0.7826263671297665 on the validation set. "
   ]
  },
  {
   "cell_type": "markdown",
   "metadata": {},
   "source": [
    "### Final Testing \n",
    "---"
   ]
  },
  {
   "cell_type": "code",
   "execution_count": 147,
   "metadata": {},
   "outputs": [
    {
     "name": "stdout",
     "output_type": "stream",
     "text": [
      "Threshold = 0.54 | Precision = 0.515, Recall = 0.693\n",
      "F1 Score:  0.5905759162303665\n",
      "AUC ROC Score:  0.7629470765063986\n",
      "Accuracy Score:  0.8045\n"
     ]
    }
   ],
   "source": [
    "# Initialize RandomForestClassifier\n",
    "model = RandomForestClassifier(random_state=12345, n_estimators=300, max_depth=None)\n",
    "\n",
    "# Train the model\n",
    "model.fit(features_downsampled, target_downsampled)\n",
    "\n",
    "# Predict probabilities for the positive class (class 1)\n",
    "probabilities_test = model.predict_proba(features_test)\n",
    "probabilities_one_test = probabilities_test[:, 1]\n",
    "\n",
    "# Manually adjust the threshold to 0.54\n",
    "threshold = 0.54\n",
    "predicted_test = probabilities_one_test > threshold\n",
    "\n",
    "# Calculate precision and recall scores\n",
    "precision = precision_score(target_test, predicted_test)\n",
    "recall = recall_score(target_test, predicted_test)\n",
    "f1 = f1_score(target_test, predicted_test)\n",
    "ar = roc_auc_score(target_test, predicted_test)\n",
    "accuracy = accuracy_score(target_test, predicted_test)\n",
    "\n",
    "print('Threshold = {:.2f} | Precision = {:.3f}, Recall = {:.3f}'.format(threshold, precision, recall))\n",
    "print('F1 Score: ', f1)\n",
    "print('AUC ROC Score: ', ar)\n",
    "print('Accuracy Score: ', accuracy)\n"
   ]
  },
  {
   "cell_type": "markdown",
   "metadata": {},
   "source": [
    "**Conclusion:** \n",
    "\n",
    "In our efforts to predict customer churn for Beta Bank, we undertook a comprehensive analysis starting from data preparation to model evaluation. Here, we summarize our findings and the steps taken to achieve the best-performing model.\n",
    "\n",
    "Initially, we observed that the dataset contained imbalanced classes, with the minority class (customers who exited) being significantly less prevalent than the majority class. To address this imbalance, we experimented with various strategies including using the 'balanced' hyperparameter, upsampling, and downsampling techniques during model training.\n",
    "\n",
    "After training multiple models including Decision Trees, Random Forests, and Logistic Regression with different hyperparameters and data sampling techniques, we found that the Random Forest model with 300 estimators and downsampled data consistently outperformed others, achieving the highest F1 score of approximately 0.599.\n",
    "\n",
    "Further optimization was performed by adjusting the threshold of the Random Forest model, resulting in a higher F1 score of 0.616 and an AUC ROC of 0.783 on the validation set. This adjustment proved to be effective in improving the model's performance in identifying instances of both classes, balancing precision and recall.\n",
    "\n",
    "In conclusion, with the Random Forest model utilizing 300 estimators, downsampled training data, and a threshold adjusted to 0.54, we achieved an F1 score of approximately 0.59 on the test data. This indicates that our model is capable of effectively identifying customers at risk of churn, providing Beta Bank with valuable insights for proactive retention efforts."
   ]
  }
 ],
 "metadata": {
  "kernelspec": {
   "display_name": "Python 3 (ipykernel)",
   "language": "python",
   "name": "python3"
  },
  "language_info": {
   "codemirror_mode": {
    "name": "ipython",
    "version": 3
   },
   "file_extension": ".py",
   "mimetype": "text/x-python",
   "name": "python",
   "nbconvert_exporter": "python",
   "pygments_lexer": "ipython3",
   "version": "3.10.13"
  },
  "toc": {
   "base_numbering": 1,
   "nav_menu": {},
   "number_sections": true,
   "sideBar": true,
   "skip_h1_title": true,
   "title_cell": "Table of Contents",
   "title_sidebar": "Contents",
   "toc_cell": false,
   "toc_position": {},
   "toc_section_display": true,
   "toc_window_display": false
  }
 },
 "nbformat": 4,
 "nbformat_minor": 2
}
